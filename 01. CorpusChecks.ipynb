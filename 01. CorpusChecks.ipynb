{
 "cells": [
  {
   "cell_type": "markdown",
   "metadata": {},
   "source": [
    "## Checking Data"
   ]
  },
  {
   "cell_type": "markdown",
   "metadata": {},
   "source": [
    "This was a general first check of the data gathered by each scraper separately, to make sure things worked correctly with the PushShift API. It is not very important in the context of the analysis."
   ]
  },
  {
   "cell_type": "code",
   "execution_count": 2,
   "metadata": {},
   "outputs": [],
   "source": [
    "import pandas as pd\n",
    "import numpy as np\n",
    "from textblob import TextBlob\n",
    "from vaderSentiment.vaderSentiment import SentimentIntensityAnalyzer"
   ]
  },
  {
   "cell_type": "code",
   "execution_count": 35,
   "metadata": {},
   "outputs": [],
   "source": [
    "casomc = pd.read_csv('../data/CasualConvOMC.csv')\n",
    "happy = pd.read_csv('../data/happy_15k.csv')\n",
    "depression = pd.read_csv('../data/depression_30k.csv')\n",
    "anxiety = pd.read_csv('../data/anxiety_20k.csv')"
   ]
  },
  {
   "cell_type": "code",
   "execution_count": 25,
   "metadata": {},
   "outputs": [
    {
     "data": {
      "text/html": [
       "<div>\n",
       "<style scoped>\n",
       "    .dataframe tbody tr th:only-of-type {\n",
       "        vertical-align: middle;\n",
       "    }\n",
       "\n",
       "    .dataframe tbody tr th {\n",
       "        vertical-align: top;\n",
       "    }\n",
       "\n",
       "    .dataframe thead th {\n",
       "        text-align: right;\n",
       "    }\n",
       "</style>\n",
       "<table border=\"1\" class=\"dataframe\">\n",
       "  <thead>\n",
       "    <tr style=\"text-align: right;\">\n",
       "      <th></th>\n",
       "      <th>Unnamed: 0</th>\n",
       "      <th>title</th>\n",
       "      <th>author</th>\n",
       "      <th>selftext</th>\n",
       "      <th>created_utc</th>\n",
       "      <th>subreddit</th>\n",
       "    </tr>\n",
       "  </thead>\n",
       "  <tbody>\n",
       "    <tr>\n",
       "      <th>0</th>\n",
       "      <td>0</td>\n",
       "      <td>Why is it that the person who beats themself u...</td>\n",
       "      <td>ToesyToeNails</td>\n",
       "      <td>[removed]</td>\n",
       "      <td>1602713864</td>\n",
       "      <td>CasualConversation</td>\n",
       "    </tr>\n",
       "    <tr>\n",
       "      <th>1</th>\n",
       "      <td>1</td>\n",
       "      <td>Dealing with sadness</td>\n",
       "      <td>willhound71</td>\n",
       "      <td>Hi I’m Will and I’ve been a lurker for a while...</td>\n",
       "      <td>1602713155</td>\n",
       "      <td>CasualConversation</td>\n",
       "    </tr>\n",
       "    <tr>\n",
       "      <th>2</th>\n",
       "      <td>2</td>\n",
       "      <td>My life has never been better, and I feel as t...</td>\n",
       "      <td>mrsleveman</td>\n",
       "      <td>Hi :). I live in the UK and I'm 18, currently ...</td>\n",
       "      <td>1602713095</td>\n",
       "      <td>CasualConversation</td>\n",
       "    </tr>\n",
       "    <tr>\n",
       "      <th>3</th>\n",
       "      <td>3</td>\n",
       "      <td>It‘s my cake day!!!! :o</td>\n",
       "      <td>sinah-mv</td>\n",
       "      <td>I love Reddit and will probably spend too much...</td>\n",
       "      <td>1602713014</td>\n",
       "      <td>CasualConversation</td>\n",
       "    </tr>\n",
       "    <tr>\n",
       "      <th>4</th>\n",
       "      <td>4</td>\n",
       "      <td>Can I have weed dealer I colorado about 15 min...</td>\n",
       "      <td>WALMART_RAPIST</td>\n",
       "      <td>[removed]</td>\n",
       "      <td>1602712660</td>\n",
       "      <td>CasualConversation</td>\n",
       "    </tr>\n",
       "  </tbody>\n",
       "</table>\n",
       "</div>"
      ],
      "text/plain": [
       "   Unnamed: 0                                              title  \\\n",
       "0           0  Why is it that the person who beats themself u...   \n",
       "1           1                               Dealing with sadness   \n",
       "2           2  My life has never been better, and I feel as t...   \n",
       "3           3                            It‘s my cake day!!!! :o   \n",
       "4           4  Can I have weed dealer I colorado about 15 min...   \n",
       "\n",
       "           author                                           selftext  \\\n",
       "0   ToesyToeNails                                          [removed]   \n",
       "1     willhound71  Hi I’m Will and I’ve been a lurker for a while...   \n",
       "2      mrsleveman  Hi :). I live in the UK and I'm 18, currently ...   \n",
       "3        sinah-mv  I love Reddit and will probably spend too much...   \n",
       "4  WALMART_RAPIST                                          [removed]   \n",
       "\n",
       "   created_utc           subreddit  \n",
       "0   1602713864  CasualConversation  \n",
       "1   1602713155  CasualConversation  \n",
       "2   1602713095  CasualConversation  \n",
       "3   1602713014  CasualConversation  \n",
       "4   1602712660  CasualConversation  "
      ]
     },
     "execution_count": 25,
     "metadata": {},
     "output_type": "execute_result"
    }
   ],
   "source": [
    "casomc.head()"
   ]
  },
  {
   "cell_type": "code",
   "execution_count": 26,
   "metadata": {},
   "outputs": [
    {
     "data": {
      "text/plain": [
       "(15000, 6)"
      ]
     },
     "execution_count": 26,
     "metadata": {},
     "output_type": "execute_result"
    }
   ],
   "source": [
    "happy.shape"
   ]
  },
  {
   "cell_type": "code",
   "execution_count": 27,
   "metadata": {},
   "outputs": [
    {
     "data": {
      "text/plain": [
       "(30000, 6)"
      ]
     },
     "execution_count": 27,
     "metadata": {},
     "output_type": "execute_result"
    }
   ],
   "source": [
    "casomc.shape"
   ]
  },
  {
   "cell_type": "code",
   "execution_count": 7,
   "metadata": {},
   "outputs": [],
   "source": [
    "analyzer = SentimentIntensityAnalyzer()"
   ]
  },
  {
   "cell_type": "code",
   "execution_count": 8,
   "metadata": {},
   "outputs": [
    {
     "data": {
      "text/plain": [
       "{'neg': 0.089, 'neu': 0.76, 'pos': 0.151, 'compound': 0.9977}"
      ]
     },
     "execution_count": 8,
     "metadata": {},
     "output_type": "execute_result"
    }
   ],
   "source": [
    "cc_sample = casomc[casomc['subreddit']=='CasualConversation'].sample(100)\n",
    "analyzer.polarity_scores(cc_sample['title'])"
   ]
  },
  {
   "cell_type": "code",
   "execution_count": 9,
   "metadata": {},
   "outputs": [
    {
     "data": {
      "text/plain": [
       "{'neg': 0.169, 'neu': 0.679, 'pos': 0.152, 'compound': -0.959}"
      ]
     },
     "execution_count": 9,
     "metadata": {},
     "output_type": "execute_result"
    }
   ],
   "source": [
    "omc_sample = casomc[casomc['subreddit']=='offmychest'].sample(100)\n",
    "analyzer.polarity_scores(omc_sample['title'])"
   ]
  },
  {
   "cell_type": "code",
   "execution_count": 10,
   "metadata": {},
   "outputs": [
    {
     "data": {
      "text/plain": [
       "array(['CasualConversation', 'offmychest'], dtype=object)"
      ]
     },
     "execution_count": 10,
     "metadata": {},
     "output_type": "execute_result"
    }
   ],
   "source": [
    "casomc['subreddit'].unique()"
   ]
  },
  {
   "cell_type": "markdown",
   "metadata": {},
   "source": [
    "#### Creating a BaseText Corpus from CasualConversation and Happy"
   ]
  },
  {
   "cell_type": "code",
   "execution_count": 11,
   "metadata": {},
   "outputs": [],
   "source": [
    "basetext = pd.concat([casomc[casomc['subreddit']=='CasualConversation'],happy])"
   ]
  },
  {
   "cell_type": "code",
   "execution_count": 12,
   "metadata": {},
   "outputs": [
    {
     "data": {
      "text/plain": [
       "(30000, 6)"
      ]
     },
     "execution_count": 12,
     "metadata": {},
     "output_type": "execute_result"
    }
   ],
   "source": [
    "basetext.shape"
   ]
  },
  {
   "cell_type": "code",
   "execution_count": 13,
   "metadata": {},
   "outputs": [],
   "source": [
    "basetext.drop(columns = 'Unnamed: 0', inplace=True)"
   ]
  },
  {
   "cell_type": "code",
   "execution_count": 14,
   "metadata": {},
   "outputs": [
    {
     "data": {
      "text/html": [
       "<div>\n",
       "<style scoped>\n",
       "    .dataframe tbody tr th:only-of-type {\n",
       "        vertical-align: middle;\n",
       "    }\n",
       "\n",
       "    .dataframe tbody tr th {\n",
       "        vertical-align: top;\n",
       "    }\n",
       "\n",
       "    .dataframe thead th {\n",
       "        text-align: right;\n",
       "    }\n",
       "</style>\n",
       "<table border=\"1\" class=\"dataframe\">\n",
       "  <thead>\n",
       "    <tr style=\"text-align: right;\">\n",
       "      <th></th>\n",
       "      <th>title</th>\n",
       "      <th>author</th>\n",
       "      <th>selftext</th>\n",
       "      <th>created_utc</th>\n",
       "      <th>subreddit</th>\n",
       "    </tr>\n",
       "  </thead>\n",
       "  <tbody>\n",
       "    <tr>\n",
       "      <th>0</th>\n",
       "      <td>Why is it that the person who beats themself u...</td>\n",
       "      <td>ToesyToeNails</td>\n",
       "      <td>[removed]</td>\n",
       "      <td>1602713864</td>\n",
       "      <td>CasualConversation</td>\n",
       "    </tr>\n",
       "    <tr>\n",
       "      <th>1</th>\n",
       "      <td>Dealing with sadness</td>\n",
       "      <td>willhound71</td>\n",
       "      <td>Hi I’m Will and I’ve been a lurker for a while...</td>\n",
       "      <td>1602713155</td>\n",
       "      <td>CasualConversation</td>\n",
       "    </tr>\n",
       "    <tr>\n",
       "      <th>2</th>\n",
       "      <td>My life has never been better, and I feel as t...</td>\n",
       "      <td>mrsleveman</td>\n",
       "      <td>Hi :). I live in the UK and I'm 18, currently ...</td>\n",
       "      <td>1602713095</td>\n",
       "      <td>CasualConversation</td>\n",
       "    </tr>\n",
       "    <tr>\n",
       "      <th>3</th>\n",
       "      <td>It‘s my cake day!!!! :o</td>\n",
       "      <td>sinah-mv</td>\n",
       "      <td>I love Reddit and will probably spend too much...</td>\n",
       "      <td>1602713014</td>\n",
       "      <td>CasualConversation</td>\n",
       "    </tr>\n",
       "    <tr>\n",
       "      <th>4</th>\n",
       "      <td>Can I have weed dealer I colorado about 15 min...</td>\n",
       "      <td>WALMART_RAPIST</td>\n",
       "      <td>[removed]</td>\n",
       "      <td>1602712660</td>\n",
       "      <td>CasualConversation</td>\n",
       "    </tr>\n",
       "  </tbody>\n",
       "</table>\n",
       "</div>"
      ],
      "text/plain": [
       "                                               title          author  \\\n",
       "0  Why is it that the person who beats themself u...   ToesyToeNails   \n",
       "1                               Dealing with sadness     willhound71   \n",
       "2  My life has never been better, and I feel as t...      mrsleveman   \n",
       "3                            It‘s my cake day!!!! :o        sinah-mv   \n",
       "4  Can I have weed dealer I colorado about 15 min...  WALMART_RAPIST   \n",
       "\n",
       "                                            selftext  created_utc  \\\n",
       "0                                          [removed]   1602713864   \n",
       "1  Hi I’m Will and I’ve been a lurker for a while...   1602713155   \n",
       "2  Hi :). I live in the UK and I'm 18, currently ...   1602713095   \n",
       "3  I love Reddit and will probably spend too much...   1602713014   \n",
       "4                                          [removed]   1602712660   \n",
       "\n",
       "            subreddit  \n",
       "0  CasualConversation  \n",
       "1  CasualConversation  \n",
       "2  CasualConversation  \n",
       "3  CasualConversation  \n",
       "4  CasualConversation  "
      ]
     },
     "execution_count": 14,
     "metadata": {},
     "output_type": "execute_result"
    }
   ],
   "source": [
    "basetext.head()"
   ]
  },
  {
   "cell_type": "markdown",
   "metadata": {},
   "source": [
    "#### Extracting a Sample and Seeing if We Can Attach Vader Polarity Scores to the Corpus"
   ]
  },
  {
   "cell_type": "code",
   "execution_count": 15,
   "metadata": {},
   "outputs": [],
   "source": [
    "base_sample = basetext.sample(100)"
   ]
  },
  {
   "cell_type": "code",
   "execution_count": 16,
   "metadata": {},
   "outputs": [],
   "source": [
    "res = analyzer.polarity_scores(base_sample['title'])"
   ]
  },
  {
   "cell_type": "code",
   "execution_count": 17,
   "metadata": {},
   "outputs": [
    {
     "data": {
      "text/plain": [
       "[0.06, 0.739]"
      ]
     },
     "execution_count": 17,
     "metadata": {},
     "output_type": "execute_result"
    }
   ],
   "source": [
    "[res['neg'], res['neu']]"
   ]
  },
  {
   "cell_type": "code",
   "execution_count": 18,
   "metadata": {},
   "outputs": [],
   "source": [
    "def sentiment(row):\n",
    "    analyzer = SentimentIntensityAnalyzer()\n",
    "    res = analyzer.polarity_scores(row)\n",
    "    return pd.Series([res['neg'], res['neu'], res['pos'], res['compound']])"
   ]
  },
  {
   "cell_type": "code",
   "execution_count": 19,
   "metadata": {},
   "outputs": [],
   "source": [
    "base_sample[['neg','neu','pos','comp']] = base_sample['title'].apply(sentiment)"
   ]
  },
  {
   "cell_type": "code",
   "execution_count": 37,
   "metadata": {},
   "outputs": [
    {
     "data": {
      "text/html": [
       "<div>\n",
       "<style scoped>\n",
       "    .dataframe tbody tr th:only-of-type {\n",
       "        vertical-align: middle;\n",
       "    }\n",
       "\n",
       "    .dataframe tbody tr th {\n",
       "        vertical-align: top;\n",
       "    }\n",
       "\n",
       "    .dataframe thead th {\n",
       "        text-align: right;\n",
       "    }\n",
       "</style>\n",
       "<table border=\"1\" class=\"dataframe\">\n",
       "  <thead>\n",
       "    <tr style=\"text-align: right;\">\n",
       "      <th></th>\n",
       "      <th>title</th>\n",
       "      <th>author</th>\n",
       "      <th>selftext</th>\n",
       "      <th>created_utc</th>\n",
       "      <th>subreddit</th>\n",
       "      <th>neg</th>\n",
       "      <th>neu</th>\n",
       "      <th>pos</th>\n",
       "      <th>comp</th>\n",
       "    </tr>\n",
       "  </thead>\n",
       "  <tbody>\n",
       "    <tr>\n",
       "      <th>4045</th>\n",
       "      <td>I have my new cover for my now serialized book...</td>\n",
       "      <td>Faustyna</td>\n",
       "      <td>NaN</td>\n",
       "      <td>1592786749</td>\n",
       "      <td>happy</td>\n",
       "      <td>0.000</td>\n",
       "      <td>0.857</td>\n",
       "      <td>0.143</td>\n",
       "      <td>0.7921</td>\n",
       "    </tr>\n",
       "    <tr>\n",
       "      <th>14094</th>\n",
       "      <td>I'm still happy about something that happened ...</td>\n",
       "      <td>rocijim</td>\n",
       "      <td>A month ago, the popular manga haikyuu came to...</td>\n",
       "      <td>1598473453</td>\n",
       "      <td>CasualConversation</td>\n",
       "      <td>0.000</td>\n",
       "      <td>0.865</td>\n",
       "      <td>0.135</td>\n",
       "      <td>0.3291</td>\n",
       "    </tr>\n",
       "    <tr>\n",
       "      <th>414</th>\n",
       "      <td>Are you voting for Orange Man or Senile Old Fool?</td>\n",
       "      <td>PapadinDanse</td>\n",
       "      <td>[removed]</td>\n",
       "      <td>1602590213</td>\n",
       "      <td>CasualConversation</td>\n",
       "      <td>0.244</td>\n",
       "      <td>0.756</td>\n",
       "      <td>0.000</td>\n",
       "      <td>-0.4404</td>\n",
       "    </tr>\n",
       "    <tr>\n",
       "      <th>10887</th>\n",
       "      <td>Today I proved to myself that I can be a good ...</td>\n",
       "      <td>KilotonCarcajou</td>\n",
       "      <td>I've been the shift manager of a small rental ...</td>\n",
       "      <td>1576901204</td>\n",
       "      <td>happy</td>\n",
       "      <td>0.000</td>\n",
       "      <td>0.791</td>\n",
       "      <td>0.209</td>\n",
       "      <td>0.4404</td>\n",
       "    </tr>\n",
       "    <tr>\n",
       "      <th>1689</th>\n",
       "      <td>Sometimes I wish I could be tiny so I could se...</td>\n",
       "      <td>ryoto500</td>\n",
       "      <td>[removed]</td>\n",
       "      <td>1602188188</td>\n",
       "      <td>CasualConversation</td>\n",
       "      <td>0.000</td>\n",
       "      <td>0.924</td>\n",
       "      <td>0.076</td>\n",
       "      <td>0.4019</td>\n",
       "    </tr>\n",
       "  </tbody>\n",
       "</table>\n",
       "</div>"
      ],
      "text/plain": [
       "                                                   title           author  \\\n",
       "4045   I have my new cover for my now serialized book...         Faustyna   \n",
       "14094  I'm still happy about something that happened ...          rocijim   \n",
       "414    Are you voting for Orange Man or Senile Old Fool?     PapadinDanse   \n",
       "10887  Today I proved to myself that I can be a good ...  KilotonCarcajou   \n",
       "1689   Sometimes I wish I could be tiny so I could se...         ryoto500   \n",
       "\n",
       "                                                selftext  created_utc  \\\n",
       "4045                                                 NaN   1592786749   \n",
       "14094  A month ago, the popular manga haikyuu came to...   1598473453   \n",
       "414                                            [removed]   1602590213   \n",
       "10887  I've been the shift manager of a small rental ...   1576901204   \n",
       "1689                                           [removed]   1602188188   \n",
       "\n",
       "                subreddit    neg    neu    pos    comp  \n",
       "4045                happy  0.000  0.857  0.143  0.7921  \n",
       "14094  CasualConversation  0.000  0.865  0.135  0.3291  \n",
       "414    CasualConversation  0.244  0.756  0.000 -0.4404  \n",
       "10887               happy  0.000  0.791  0.209  0.4404  \n",
       "1689   CasualConversation  0.000  0.924  0.076  0.4019  "
      ]
     },
     "execution_count": 37,
     "metadata": {},
     "output_type": "execute_result"
    }
   ],
   "source": [
    "base_sample.head()"
   ]
  },
  {
   "cell_type": "markdown",
   "metadata": {},
   "source": [
    "#### Let's do a quick check on the sentiments of our base class, Depression class, and Anxiety class using sampling to see if our base class will be different enough"
   ]
  },
  {
   "cell_type": "code",
   "execution_count": 33,
   "metadata": {},
   "outputs": [
    {
     "data": {
      "text/plain": [
       "{'neg': 0.076, 'neu': 0.722, 'pos': 0.202, 'compound': 1.0}"
      ]
     },
     "execution_count": 33,
     "metadata": {},
     "output_type": "execute_result"
    }
   ],
   "source": [
    "analyzer.polarity_scores(basetext.sample(500)['title'])"
   ]
  },
  {
   "cell_type": "code",
   "execution_count": 34,
   "metadata": {},
   "outputs": [
    {
     "data": {
      "text/plain": [
       "{'neg': 0.219, 'neu': 0.678, 'pos': 0.103, 'compound': -1.0}"
      ]
     },
     "execution_count": 34,
     "metadata": {},
     "output_type": "execute_result"
    }
   ],
   "source": [
    "analyzer.polarity_scores(depression.sample(500)['title'])"
   ]
  },
  {
   "cell_type": "code",
   "execution_count": 36,
   "metadata": {},
   "outputs": [
    {
     "data": {
      "text/plain": [
       "{'neg': 0.216, 'neu': 0.671, 'pos': 0.113, 'compound': -0.9999}"
      ]
     },
     "execution_count": 36,
     "metadata": {},
     "output_type": "execute_result"
    }
   ],
   "source": [
    "analyzer.polarity_scores(anxiety.sample(500)['title'])"
   ]
  },
  {
   "cell_type": "markdown",
   "metadata": {},
   "source": [
    "##### Looking good compared to intuition. Now we can export our base text corpus for use on the more robust classifier."
   ]
  },
  {
   "cell_type": "markdown",
   "metadata": {},
   "source": [
    "#### Exporting the basetext corpus"
   ]
  },
  {
   "cell_type": "code",
   "execution_count": 38,
   "metadata": {},
   "outputs": [
    {
     "data": {
      "text/html": [
       "<div>\n",
       "<style scoped>\n",
       "    .dataframe tbody tr th:only-of-type {\n",
       "        vertical-align: middle;\n",
       "    }\n",
       "\n",
       "    .dataframe tbody tr th {\n",
       "        vertical-align: top;\n",
       "    }\n",
       "\n",
       "    .dataframe thead th {\n",
       "        text-align: right;\n",
       "    }\n",
       "</style>\n",
       "<table border=\"1\" class=\"dataframe\">\n",
       "  <thead>\n",
       "    <tr style=\"text-align: right;\">\n",
       "      <th></th>\n",
       "      <th>title</th>\n",
       "      <th>author</th>\n",
       "      <th>selftext</th>\n",
       "      <th>created_utc</th>\n",
       "      <th>subreddit</th>\n",
       "    </tr>\n",
       "  </thead>\n",
       "  <tbody>\n",
       "    <tr>\n",
       "      <th>0</th>\n",
       "      <td>Why is it that the person who beats themself u...</td>\n",
       "      <td>ToesyToeNails</td>\n",
       "      <td>[removed]</td>\n",
       "      <td>1602713864</td>\n",
       "      <td>CasualConversation</td>\n",
       "    </tr>\n",
       "    <tr>\n",
       "      <th>1</th>\n",
       "      <td>Dealing with sadness</td>\n",
       "      <td>willhound71</td>\n",
       "      <td>Hi I’m Will and I’ve been a lurker for a while...</td>\n",
       "      <td>1602713155</td>\n",
       "      <td>CasualConversation</td>\n",
       "    </tr>\n",
       "    <tr>\n",
       "      <th>2</th>\n",
       "      <td>My life has never been better, and I feel as t...</td>\n",
       "      <td>mrsleveman</td>\n",
       "      <td>Hi :). I live in the UK and I'm 18, currently ...</td>\n",
       "      <td>1602713095</td>\n",
       "      <td>CasualConversation</td>\n",
       "    </tr>\n",
       "    <tr>\n",
       "      <th>3</th>\n",
       "      <td>It‘s my cake day!!!! :o</td>\n",
       "      <td>sinah-mv</td>\n",
       "      <td>I love Reddit and will probably spend too much...</td>\n",
       "      <td>1602713014</td>\n",
       "      <td>CasualConversation</td>\n",
       "    </tr>\n",
       "    <tr>\n",
       "      <th>4</th>\n",
       "      <td>Can I have weed dealer I colorado about 15 min...</td>\n",
       "      <td>WALMART_RAPIST</td>\n",
       "      <td>[removed]</td>\n",
       "      <td>1602712660</td>\n",
       "      <td>CasualConversation</td>\n",
       "    </tr>\n",
       "  </tbody>\n",
       "</table>\n",
       "</div>"
      ],
      "text/plain": [
       "                                               title          author  \\\n",
       "0  Why is it that the person who beats themself u...   ToesyToeNails   \n",
       "1                               Dealing with sadness     willhound71   \n",
       "2  My life has never been better, and I feel as t...      mrsleveman   \n",
       "3                            It‘s my cake day!!!! :o        sinah-mv   \n",
       "4  Can I have weed dealer I colorado about 15 min...  WALMART_RAPIST   \n",
       "\n",
       "                                            selftext  created_utc  \\\n",
       "0                                          [removed]   1602713864   \n",
       "1  Hi I’m Will and I’ve been a lurker for a while...   1602713155   \n",
       "2  Hi :). I live in the UK and I'm 18, currently ...   1602713095   \n",
       "3  I love Reddit and will probably spend too much...   1602713014   \n",
       "4                                          [removed]   1602712660   \n",
       "\n",
       "            subreddit  \n",
       "0  CasualConversation  \n",
       "1  CasualConversation  \n",
       "2  CasualConversation  \n",
       "3  CasualConversation  \n",
       "4  CasualConversation  "
      ]
     },
     "execution_count": 38,
     "metadata": {},
     "output_type": "execute_result"
    }
   ],
   "source": [
    "basetext.head()"
   ]
  },
  {
   "cell_type": "code",
   "execution_count": 40,
   "metadata": {},
   "outputs": [],
   "source": [
    "basetext.to_csv('./basetext.csv')"
   ]
  }
 ],
 "metadata": {
  "kernelspec": {
   "display_name": "Python 3",
   "language": "python",
   "name": "python3"
  },
  "language_info": {
   "codemirror_mode": {
    "name": "ipython",
    "version": 3
   },
   "file_extension": ".py",
   "mimetype": "text/x-python",
   "name": "python",
   "nbconvert_exporter": "python",
   "pygments_lexer": "ipython3",
   "version": "3.8.3"
  }
 },
 "nbformat": 4,
 "nbformat_minor": 4
}
