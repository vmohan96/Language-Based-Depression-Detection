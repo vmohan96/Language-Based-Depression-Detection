{
 "cells": [
  {
   "cell_type": "markdown",
   "metadata": {},
   "source": [
    "## Investigating DAIC-WOZ Data"
   ]
  },
  {
   "cell_type": "markdown",
   "metadata": {},
   "source": [
    "In the following, I conduced some general EDA/unpacking of selected datapoints from the DAIC Corpus"
   ]
  },
  {
   "cell_type": "code",
   "execution_count": 1,
   "metadata": {},
   "outputs": [],
   "source": [
    "import pandas as pd"
   ]
  },
  {
   "cell_type": "code",
   "execution_count": 2,
   "metadata": {},
   "outputs": [],
   "source": [
    "tr_300 = pd.read_csv('../data/300_TRANSCRIPT.csv',sep = '\\\\t',engine='python')"
   ]
  },
  {
   "cell_type": "code",
   "execution_count": 3,
   "metadata": {},
   "outputs": [
    {
     "data": {
      "text/html": [
       "<div>\n",
       "<style scoped>\n",
       "    .dataframe tbody tr th:only-of-type {\n",
       "        vertical-align: middle;\n",
       "    }\n",
       "\n",
       "    .dataframe tbody tr th {\n",
       "        vertical-align: top;\n",
       "    }\n",
       "\n",
       "    .dataframe thead th {\n",
       "        text-align: right;\n",
       "    }\n",
       "</style>\n",
       "<table border=\"1\" class=\"dataframe\">\n",
       "  <thead>\n",
       "    <tr style=\"text-align: right;\">\n",
       "      <th></th>\n",
       "      <th>start_time</th>\n",
       "      <th>stop_time</th>\n",
       "      <th>speaker</th>\n",
       "      <th>value</th>\n",
       "    </tr>\n",
       "  </thead>\n",
       "  <tbody>\n",
       "    <tr>\n",
       "      <th>6</th>\n",
       "      <td>62.328</td>\n",
       "      <td>63.178</td>\n",
       "      <td>Participant</td>\n",
       "      <td>good</td>\n",
       "    </tr>\n",
       "    <tr>\n",
       "      <th>9</th>\n",
       "      <td>68.978</td>\n",
       "      <td>70.288</td>\n",
       "      <td>Participant</td>\n",
       "      <td>atlanta georgia</td>\n",
       "    </tr>\n",
       "    <tr>\n",
       "      <th>12</th>\n",
       "      <td>75.028</td>\n",
       "      <td>78.128</td>\n",
       "      <td>Participant</td>\n",
       "      <td>um my parents are from here um</td>\n",
       "    </tr>\n",
       "    <tr>\n",
       "      <th>14</th>\n",
       "      <td>83.808</td>\n",
       "      <td>84.588</td>\n",
       "      <td>Participant</td>\n",
       "      <td>i love it</td>\n",
       "    </tr>\n",
       "    <tr>\n",
       "      <th>16</th>\n",
       "      <td>88.458</td>\n",
       "      <td>89.968</td>\n",
       "      <td>Participant</td>\n",
       "      <td>i like the weather</td>\n",
       "    </tr>\n",
       "    <tr>\n",
       "      <th>...</th>\n",
       "      <td>...</td>\n",
       "      <td>...</td>\n",
       "      <td>...</td>\n",
       "      <td>...</td>\n",
       "    </tr>\n",
       "    <tr>\n",
       "      <th>165</th>\n",
       "      <td>598.238</td>\n",
       "      <td>599.708</td>\n",
       "      <td>Participant</td>\n",
       "      <td>chocolate</td>\n",
       "    </tr>\n",
       "    <tr>\n",
       "      <th>166</th>\n",
       "      <td>600.608</td>\n",
       "      <td>601.378</td>\n",
       "      <td>Participant</td>\n",
       "      <td>tall</td>\n",
       "    </tr>\n",
       "    <tr>\n",
       "      <th>168</th>\n",
       "      <td>602.738</td>\n",
       "      <td>603.478</td>\n",
       "      <td>Participant</td>\n",
       "      <td>thin</td>\n",
       "    </tr>\n",
       "    <tr>\n",
       "      <th>171</th>\n",
       "      <td>618.308</td>\n",
       "      <td>619.078</td>\n",
       "      <td>Participant</td>\n",
       "      <td>thank you</td>\n",
       "    </tr>\n",
       "    <tr>\n",
       "      <th>173</th>\n",
       "      <td>620.538</td>\n",
       "      <td>621.268</td>\n",
       "      <td>Participant</td>\n",
       "      <td>bye bye</td>\n",
       "    </tr>\n",
       "  </tbody>\n",
       "</table>\n",
       "<p>87 rows × 4 columns</p>\n",
       "</div>"
      ],
      "text/plain": [
       "     start_time  stop_time      speaker                           value\n",
       "6        62.328     63.178  Participant                            good\n",
       "9        68.978     70.288  Participant                 atlanta georgia\n",
       "12       75.028     78.128  Participant  um my parents are from here um\n",
       "14       83.808     84.588  Participant                       i love it\n",
       "16       88.458     89.968  Participant              i like the weather\n",
       "..          ...        ...          ...                             ...\n",
       "165     598.238    599.708  Participant                       chocolate\n",
       "166     600.608    601.378  Participant                            tall\n",
       "168     602.738    603.478  Participant                            thin\n",
       "171     618.308    619.078  Participant                       thank you\n",
       "173     620.538    621.268  Participant                         bye bye\n",
       "\n",
       "[87 rows x 4 columns]"
      ]
     },
     "execution_count": 3,
     "metadata": {},
     "output_type": "execute_result"
    }
   ],
   "source": [
    "tr_300[tr_300['speaker']!='Ellie']"
   ]
  },
  {
   "cell_type": "code",
   "execution_count": null,
   "metadata": {},
   "outputs": [],
   "source": []
  }
 ],
 "metadata": {
  "kernelspec": {
   "display_name": "Python 3",
   "language": "python",
   "name": "python3"
  },
  "language_info": {
   "codemirror_mode": {
    "name": "ipython",
    "version": 3
   },
   "file_extension": ".py",
   "mimetype": "text/x-python",
   "name": "python",
   "nbconvert_exporter": "python",
   "pygments_lexer": "ipython3",
   "version": "3.8.3"
  }
 },
 "nbformat": 4,
 "nbformat_minor": 4
}
