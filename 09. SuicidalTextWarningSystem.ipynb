{
 "cells": [
  {
   "cell_type": "markdown",
   "metadata": {},
   "source": [
    "## Suicidal Text Warning System"
   ]
  },
  {
   "cell_type": "markdown",
   "metadata": {},
   "source": [
    "The following sets up a simple warning system for tect input that will output a specific warning if the input contains certain words/phrases that may indicate intention of self-harm or suicide. It is a very rudimentary text-matching system, and will likely overpredict/overwarn.\n",
    "\n",
    "A **trigger warning** is also in order for the following despite its brevity, as some of the included high-risk words and phrases may be difficult to read."
   ]
  },
  {
   "cell_type": "code",
   "execution_count": 226,
   "metadata": {},
   "outputs": [],
   "source": [
    "import pandas as pd\n",
    "import numpy as np\n",
    "import matplotlib.pyplot as plt\n",
    "plt.style.use('ggplot')\n",
    "import seaborn as sns\n",
    "\n",
    "from vaderSentiment.vaderSentiment import SentimentIntensityAnalyzer\n",
    "\n",
    "import spacy\n",
    "from sklearn.pipeline import make_pipeline\n",
    "from sklearn.model_selection import train_test_split\n",
    "from sklearn.feature_extraction import text\n",
    "from sklearn.preprocessing import StandardScaler"
   ]
  },
  {
   "cell_type": "code",
   "execution_count": 2,
   "metadata": {},
   "outputs": [],
   "source": [
    "corpus = pd.read_csv('../data/corpus.csv').drop(columns='Unnamed: 0')"
   ]
  },
  {
   "cell_type": "code",
   "execution_count": 1,
   "metadata": {},
   "outputs": [],
   "source": [
    "warning_list = ['die', 'suicide', 'suicidal', 'death', 'dead', 'kill', 'end it', 'end my life', 'cut', 'hurt myself']"
   ]
  },
  {
   "cell_type": "code",
   "execution_count": 3,
   "metadata": {},
   "outputs": [
    {
     "name": "stdin",
     "output_type": "stream",
     "text": [
      "How are you feeling? having suicidal thoughts\n"
     ]
    }
   ],
   "source": [
    "text_input = input('How are you feeling?')"
   ]
  },
  {
   "cell_type": "code",
   "execution_count": 14,
   "metadata": {},
   "outputs": [
    {
     "name": "stdout",
     "output_type": "stream",
     "text": [
      "Your may contain references to self-harm or suicide. If you are considering self-harm or suicide, please reach out to this helpline: https://www.crisistextline.org/topics/self-harm/#what-is-self-harm-1 or call the suicide hotline number at 800-273-8255.\n"
     ]
    }
   ],
   "source": [
    "for i in warning_list:\n",
    "    if i in text_input:\n",
    "        print('Your input may contain references to self-harm or suicide. If you are considering self-harm or suicide, please reach out to this helpline: https://www.crisistextline.org/topics/self-harm/#what-is-self-harm-1 or call the suicide hotline number at 800-273-8255.')"
   ]
  },
  {
   "cell_type": "code",
   "execution_count": null,
   "metadata": {},
   "outputs": [],
   "source": []
  }
 ],
 "metadata": {
  "kernelspec": {
   "display_name": "Python 3",
   "language": "python",
   "name": "python3"
  },
  "language_info": {
   "codemirror_mode": {
    "name": "ipython",
    "version": 3
   },
   "file_extension": ".py",
   "mimetype": "text/x-python",
   "name": "python",
   "nbconvert_exporter": "python",
   "pygments_lexer": "ipython3",
   "version": "3.8.3"
  }
 },
 "nbformat": 4,
 "nbformat_minor": 4
}
