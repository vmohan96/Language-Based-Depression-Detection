{
 "cells": [
  {
   "cell_type": "markdown",
   "metadata": {},
   "source": [
    "## BERT Model Creation"
   ]
  },
  {
   "cell_type": "code",
   "execution_count": 1,
   "metadata": {},
   "outputs": [],
   "source": [
    "import pandas as pd\n",
    "import numpy as np\n",
    "import matplotlib.pyplot as plt\n",
    "plt.style.use('ggplot')\n",
    "import seaborn as sns\n",
    "\n",
    "from vaderSentiment.vaderSentiment import SentimentIntensityAnalyzer\n",
    "\n",
    "import spacy\n",
    "from sklearn.pipeline import make_pipeline\n",
    "from sklearn.model_selection import train_test_split\n",
    "\n",
    "from nltk.tokenize import RegexpTokenizer, word_tokenize\n",
    "import re\n",
    "\n",
    "import tensorflow as tf\n",
    "from tensorflow.keras.models import Sequential, load_model\n",
    "from tensorflow.keras.layers import Dense, Dropout, GRU, Input, Flatten, LSTM, Conv1D, MaxPooling1D, GlobalMaxPooling1D, Input, Embedding, Bidirectional\n",
    "from tensorflow.keras.preprocessing.sequence import pad_sequences\n",
    "from tensorflow.keras.wrappers.scikit_learn import KerasClassifier, KerasRegressor\n",
    "from tensorflow.keras.callbacks import EarlyStopping\n",
    "from tensorflow.keras.regularizers import l2"
   ]
  },
  {
   "cell_type": "code",
   "execution_count": 7,
   "metadata": {},
   "outputs": [],
   "source": [
    "# save numpy array as npy file\n",
    "from numpy import asarray\n",
    "from numpy import save\n",
    "from numpy import load"
   ]
  },
  {
   "cell_type": "code",
   "execution_count": 21,
   "metadata": {},
   "outputs": [],
   "source": [
    "X_train_bvect = load('../data/X_train_bvect.npy')\n",
    "X_test_bvect = load('../data/X_test_bvect.npy')"
   ]
  },
  {
   "cell_type": "code",
   "execution_count": 22,
   "metadata": {},
   "outputs": [],
   "source": [
    "X_train_reshape = X_train_bvect.reshape(-1,768,1)\n",
    "X_test_reshape = X_test_bvect.reshape(-1,768,1)"
   ]
  },
  {
   "cell_type": "code",
   "execution_count": 23,
   "metadata": {},
   "outputs": [],
   "source": [
    "y_train_cat = load('../data/y_train_cat.npy')\n",
    "y_test_cat = load('../data/y_test_cat.npy')"
   ]
  },
  {
   "cell_type": "code",
   "execution_count": 27,
   "metadata": {},
   "outputs": [],
   "source": [
    "model_l = Sequential()\n",
    "\n",
    "model_l.add(Conv1D(32, 7, activation = 'relu'))\n",
    "model_l.add(MaxPooling1D())\n",
    "model_l.add(Bidirectional(LSTM(24)))\n",
    "model_l.add(Dense(64,activation='relu',kernel_regularizer=l2(0.001)))\n",
    "model_l.add(Dropout(0.5))\n",
    "model_l.add(Dense(64,activation='relu',kernel_regularizer=l2(0.001)))\n",
    "model_l.add(Dropout(0.5))\n",
    "model_l.add(Dense(32,activation='relu',kernel_regularizer=l2(0.001)))\n",
    "\n",
    "model_l.add(Dense(1,activation='sigmoid'))"
   ]
  },
  {
   "cell_type": "code",
   "execution_count": 28,
   "metadata": {},
   "outputs": [],
   "source": [
    "model_l.compile(optimizer='nadam', metrics=['accuracy'], loss='binary_crossentropy')"
   ]
  },
  {
   "cell_type": "code",
   "execution_count": 29,
   "metadata": {
    "collapsed": true,
    "jupyter": {
     "outputs_hidden": true
    }
   },
   "outputs": [
    {
     "name": "stdout",
     "output_type": "stream",
     "text": [
      "Epoch 1/75\n",
      "1500/1500 [==============================] - 186s 124ms/step - loss: 0.5554 - accuracy: 0.7723 - val_loss: 0.4604 - val_accuracy: 0.8054\n",
      "Epoch 2/75\n",
      "1500/1500 [==============================] - 175s 117ms/step - loss: 0.4299 - accuracy: 0.8250 - val_loss: 0.3925 - val_accuracy: 0.8363\n",
      "Epoch 3/75\n",
      "1500/1500 [==============================] - 178s 119ms/step - loss: 0.3885 - accuracy: 0.8418 - val_loss: 0.3783 - val_accuracy: 0.8442\n",
      "Epoch 4/75\n",
      "1500/1500 [==============================] - 179s 119ms/step - loss: 0.3778 - accuracy: 0.8455 - val_loss: 0.4050 - val_accuracy: 0.8325\n",
      "Epoch 5/75\n",
      "1500/1500 [==============================] - 178s 119ms/step - loss: 0.3716 - accuracy: 0.8468 - val_loss: 0.3641 - val_accuracy: 0.8467\n",
      "Epoch 6/75\n",
      "1500/1500 [==============================] - 174s 116ms/step - loss: 0.3642 - accuracy: 0.8523 - val_loss: 0.3556 - val_accuracy: 0.8508\n",
      "Epoch 7/75\n",
      "1500/1500 [==============================] - 174s 116ms/step - loss: 0.3565 - accuracy: 0.8549 - val_loss: 0.3751 - val_accuracy: 0.8457\n",
      "Epoch 8/75\n",
      "1500/1500 [==============================] - 174s 116ms/step - loss: 0.3549 - accuracy: 0.8541 - val_loss: 0.3560 - val_accuracy: 0.8509\n",
      "Epoch 9/75\n",
      "1500/1500 [==============================] - 174s 116ms/step - loss: 0.3532 - accuracy: 0.8563 - val_loss: 0.3536 - val_accuracy: 0.8529\n",
      "Epoch 10/75\n",
      "1500/1500 [==============================] - 175s 116ms/step - loss: 0.3523 - accuracy: 0.8583 - val_loss: 0.3496 - val_accuracy: 0.8537\n",
      "Epoch 11/75\n",
      "1500/1500 [==============================] - 177s 118ms/step - loss: 0.3485 - accuracy: 0.8606 - val_loss: 0.3536 - val_accuracy: 0.8556\n",
      "Epoch 12/75\n",
      "1500/1500 [==============================] - 172s 115ms/step - loss: 0.3476 - accuracy: 0.8608 - val_loss: 0.3523 - val_accuracy: 0.8522\n",
      "Epoch 13/75\n",
      "1500/1500 [==============================] - 172s 115ms/step - loss: 0.3455 - accuracy: 0.8600 - val_loss: 0.3508 - val_accuracy: 0.8513\n",
      "Epoch 14/75\n",
      "1500/1500 [==============================] - 172s 115ms/step - loss: 0.3414 - accuracy: 0.8636 - val_loss: 0.3523 - val_accuracy: 0.8489\n",
      "Epoch 15/75\n",
      "1500/1500 [==============================] - 177s 118ms/step - loss: 0.3409 - accuracy: 0.8634 - val_loss: 0.3613 - val_accuracy: 0.8481\n",
      "Epoch 16/75\n",
      "1500/1500 [==============================] - 175s 117ms/step - loss: 0.3382 - accuracy: 0.8623 - val_loss: 0.3494 - val_accuracy: 0.8536\n",
      "Epoch 17/75\n",
      "1500/1500 [==============================] - 174s 116ms/step - loss: 0.3383 - accuracy: 0.8637 - val_loss: 0.3484 - val_accuracy: 0.8555\n",
      "Epoch 18/75\n",
      "1500/1500 [==============================] - 174s 116ms/step - loss: 0.3352 - accuracy: 0.8650 - val_loss: 0.3465 - val_accuracy: 0.8522\n",
      "Epoch 19/75\n",
      "1500/1500 [==============================] - 174s 116ms/step - loss: 0.3340 - accuracy: 0.8659 - val_loss: 0.3527 - val_accuracy: 0.8501\n",
      "Epoch 20/75\n",
      "1500/1500 [==============================] - 173s 116ms/step - loss: 0.3328 - accuracy: 0.8669 - val_loss: 0.3491 - val_accuracy: 0.8530\n",
      "Epoch 21/75\n",
      "1500/1500 [==============================] - 175s 117ms/step - loss: 0.3306 - accuracy: 0.8676 - val_loss: 0.3508 - val_accuracy: 0.8564\n",
      "Epoch 22/75\n",
      "1500/1500 [==============================] - 174s 116ms/step - loss: 0.3317 - accuracy: 0.8660 - val_loss: 0.3513 - val_accuracy: 0.8560\n",
      "Epoch 23/75\n",
      "1500/1500 [==============================] - 173s 115ms/step - loss: 0.3270 - accuracy: 0.8695 - val_loss: 0.3440 - val_accuracy: 0.8548\n",
      "Epoch 24/75\n",
      "1500/1500 [==============================] - 174s 116ms/step - loss: 0.3276 - accuracy: 0.8687 - val_loss: 0.3447 - val_accuracy: 0.8508\n",
      "Epoch 25/75\n",
      "1500/1500 [==============================] - 172s 115ms/step - loss: 0.3254 - accuracy: 0.8692 - val_loss: 0.3484 - val_accuracy: 0.8558\n",
      "Epoch 26/75\n",
      "1500/1500 [==============================] - 172s 115ms/step - loss: 0.3228 - accuracy: 0.8710 - val_loss: 0.3449 - val_accuracy: 0.8515\n",
      "Epoch 27/75\n",
      "1500/1500 [==============================] - 173s 115ms/step - loss: 0.3221 - accuracy: 0.8696 - val_loss: 0.3461 - val_accuracy: 0.8541\n",
      "Epoch 28/75\n",
      "1500/1500 [==============================] - 173s 115ms/step - loss: 0.3212 - accuracy: 0.8711 - val_loss: 0.3558 - val_accuracy: 0.8517\n",
      "Epoch 29/75\n",
      "1500/1500 [==============================] - 172s 115ms/step - loss: 0.3194 - accuracy: 0.8718 - val_loss: 0.3471 - val_accuracy: 0.8572\n",
      "Epoch 30/75\n",
      "1500/1500 [==============================] - 172s 115ms/step - loss: 0.3168 - accuracy: 0.8746 - val_loss: 0.3603 - val_accuracy: 0.8450\n",
      "Epoch 31/75\n",
      "1500/1500 [==============================] - 172s 115ms/step - loss: 0.3162 - accuracy: 0.8745 - val_loss: 0.3469 - val_accuracy: 0.8564\n",
      "Epoch 32/75\n",
      "1500/1500 [==============================] - 174s 116ms/step - loss: 0.3158 - accuracy: 0.8736 - val_loss: 0.3581 - val_accuracy: 0.8517\n",
      "Epoch 33/75\n",
      "1500/1500 [==============================] - 173s 115ms/step - loss: 0.3148 - accuracy: 0.8756 - val_loss: 0.3442 - val_accuracy: 0.8547\n",
      "Epoch 34/75\n",
      "1500/1500 [==============================] - 172s 115ms/step - loss: 0.3102 - accuracy: 0.8790 - val_loss: 0.3625 - val_accuracy: 0.8567\n",
      "Epoch 35/75\n",
      "1500/1500 [==============================] - 174s 116ms/step - loss: 0.3109 - accuracy: 0.8768 - val_loss: 0.3568 - val_accuracy: 0.8465\n",
      "Epoch 36/75\n",
      "1500/1500 [==============================] - 174s 116ms/step - loss: 0.3107 - accuracy: 0.8780 - val_loss: 0.3618 - val_accuracy: 0.8531\n",
      "Epoch 37/75\n",
      "1500/1500 [==============================] - 175s 117ms/step - loss: 0.3096 - accuracy: 0.8768 - val_loss: 0.3409 - val_accuracy: 0.8569\n",
      "Epoch 38/75\n",
      "1500/1500 [==============================] - 173s 115ms/step - loss: 0.3080 - accuracy: 0.8788 - val_loss: 0.3609 - val_accuracy: 0.8523\n",
      "Epoch 39/75\n",
      "1500/1500 [==============================] - 174s 116ms/step - loss: 0.3084 - accuracy: 0.8783 - val_loss: 0.3515 - val_accuracy: 0.8551\n",
      "Epoch 40/75\n",
      "1500/1500 [==============================] - 194s 130ms/step - loss: 0.3085 - accuracy: 0.8786 - val_loss: 0.3513 - val_accuracy: 0.8551\n",
      "Epoch 41/75\n",
      "1500/1500 [==============================] - 173s 115ms/step - loss: 0.3048 - accuracy: 0.8796 - val_loss: 0.3661 - val_accuracy: 0.8495\n",
      "Epoch 42/75\n",
      "1500/1500 [==============================] - 174s 116ms/step - loss: 0.3048 - accuracy: 0.8813 - val_loss: 0.3616 - val_accuracy: 0.8510\n",
      "Epoch 43/75\n",
      "1500/1500 [==============================] - 173s 115ms/step - loss: 0.3045 - accuracy: 0.8799 - val_loss: 0.3531 - val_accuracy: 0.8528\n",
      "Epoch 44/75\n",
      "1500/1500 [==============================] - 174s 116ms/step - loss: 0.3013 - accuracy: 0.8842 - val_loss: 0.3548 - val_accuracy: 0.8518\n",
      "Epoch 45/75\n",
      "1500/1500 [==============================] - 174s 116ms/step - loss: 0.3009 - accuracy: 0.8821 - val_loss: 0.3610 - val_accuracy: 0.8497\n",
      "Epoch 46/75\n",
      "1500/1500 [==============================] - 174s 116ms/step - loss: 0.2985 - accuracy: 0.8842 - val_loss: 0.3563 - val_accuracy: 0.8547\n",
      "Epoch 47/75\n",
      "1500/1500 [==============================] - 174s 116ms/step - loss: 0.2997 - accuracy: 0.8831 - val_loss: 0.3568 - val_accuracy: 0.8551\n",
      "Epoch 48/75\n",
      "1500/1500 [==============================] - 173s 116ms/step - loss: 0.3005 - accuracy: 0.8822 - val_loss: 0.3550 - val_accuracy: 0.8549\n",
      "Epoch 49/75\n",
      "1500/1500 [==============================] - 173s 116ms/step - loss: 0.2969 - accuracy: 0.8850 - val_loss: 0.3471 - val_accuracy: 0.8555\n",
      "Epoch 50/75\n",
      "1500/1500 [==============================] - 173s 115ms/step - loss: 0.2948 - accuracy: 0.8857 - val_loss: 0.3531 - val_accuracy: 0.8576\n",
      "Epoch 51/75\n",
      "1500/1500 [==============================] - 173s 115ms/step - loss: 0.2956 - accuracy: 0.8852 - val_loss: 0.3586 - val_accuracy: 0.8524\n",
      "Epoch 52/75\n",
      "1500/1500 [==============================] - 173s 115ms/step - loss: 0.2947 - accuracy: 0.8851 - val_loss: 0.3513 - val_accuracy: 0.8559\n",
      "Epoch 53/75\n",
      "1500/1500 [==============================] - 173s 115ms/step - loss: 0.2936 - accuracy: 0.8861 - val_loss: 0.3545 - val_accuracy: 0.8521\n",
      "Epoch 54/75\n",
      "1500/1500 [==============================] - 172s 115ms/step - loss: 0.2939 - accuracy: 0.8859 - val_loss: 0.3503 - val_accuracy: 0.8564\n",
      "Epoch 55/75\n",
      "1500/1500 [==============================] - 173s 115ms/step - loss: 0.2938 - accuracy: 0.8861 - val_loss: 0.3623 - val_accuracy: 0.8530\n",
      "Epoch 56/75\n",
      "1500/1500 [==============================] - 172s 115ms/step - loss: 0.2906 - accuracy: 0.8870 - val_loss: 0.3651 - val_accuracy: 0.8552\n",
      "Epoch 57/75\n",
      "1500/1500 [==============================] - 175s 116ms/step - loss: 0.2903 - accuracy: 0.8873 - val_loss: 0.3552 - val_accuracy: 0.8538\n",
      "Epoch 58/75\n",
      "1500/1500 [==============================] - 172s 115ms/step - loss: 0.2872 - accuracy: 0.8904 - val_loss: 0.3721 - val_accuracy: 0.8528\n",
      "Epoch 59/75\n",
      "1500/1500 [==============================] - 172s 115ms/step - loss: 0.2867 - accuracy: 0.8902 - val_loss: 0.3580 - val_accuracy: 0.8549\n",
      "Epoch 60/75\n",
      "1500/1500 [==============================] - 172s 115ms/step - loss: 0.2865 - accuracy: 0.8887 - val_loss: 0.3682 - val_accuracy: 0.8508\n",
      "Epoch 61/75\n",
      "1500/1500 [==============================] - 176s 117ms/step - loss: 0.2857 - accuracy: 0.8902 - val_loss: 0.3675 - val_accuracy: 0.8553\n",
      "Epoch 62/75\n",
      "1500/1500 [==============================] - 173s 116ms/step - loss: 0.2859 - accuracy: 0.8889 - val_loss: 0.3603 - val_accuracy: 0.8545\n",
      "Epoch 63/75\n",
      "1500/1500 [==============================] - 173s 115ms/step - loss: 0.2850 - accuracy: 0.8902 - val_loss: 0.3658 - val_accuracy: 0.8552\n",
      "Epoch 64/75\n",
      "1500/1500 [==============================] - 172s 115ms/step - loss: 0.2869 - accuracy: 0.8903 - val_loss: 0.3660 - val_accuracy: 0.8548\n",
      "Epoch 65/75\n",
      "1500/1500 [==============================] - 172s 115ms/step - loss: 0.2815 - accuracy: 0.8909 - val_loss: 0.3657 - val_accuracy: 0.8584\n",
      "Epoch 66/75\n",
      "1500/1500 [==============================] - 173s 115ms/step - loss: 0.2826 - accuracy: 0.8915 - val_loss: 0.3636 - val_accuracy: 0.8543\n",
      "Epoch 67/75\n",
      "1500/1500 [==============================] - 173s 115ms/step - loss: 0.2819 - accuracy: 0.8903 - val_loss: 0.3835 - val_accuracy: 0.8497\n",
      "Epoch 68/75\n",
      "1500/1500 [==============================] - 173s 115ms/step - loss: 0.2800 - accuracy: 0.8926 - val_loss: 0.3659 - val_accuracy: 0.8567\n",
      "Epoch 69/75\n",
      "1500/1500 [==============================] - 173s 115ms/step - loss: 0.2807 - accuracy: 0.8926 - val_loss: 0.3676 - val_accuracy: 0.8518\n",
      "Epoch 70/75\n",
      "1500/1500 [==============================] - 172s 115ms/step - loss: 0.2822 - accuracy: 0.8916 - val_loss: 0.3781 - val_accuracy: 0.8567\n",
      "Epoch 71/75\n",
      "1500/1500 [==============================] - 173s 115ms/step - loss: 0.2836 - accuracy: 0.8911 - val_loss: 0.3604 - val_accuracy: 0.8572\n",
      "Epoch 72/75\n",
      "1500/1500 [==============================] - 173s 115ms/step - loss: 0.2808 - accuracy: 0.8931 - val_loss: 0.3607 - val_accuracy: 0.8562\n",
      "Epoch 73/75\n",
      "1500/1500 [==============================] - 174s 116ms/step - loss: 0.2791 - accuracy: 0.8934 - val_loss: 0.3630 - val_accuracy: 0.8557\n",
      "Epoch 74/75\n",
      "1500/1500 [==============================] - 173s 115ms/step - loss: 0.2792 - accuracy: 0.8943 - val_loss: 0.3770 - val_accuracy: 0.8547\n",
      "Epoch 75/75\n",
      "1500/1500 [==============================] - 172s 115ms/step - loss: 0.2805 - accuracy: 0.8932 - val_loss: 0.3702 - val_accuracy: 0.8547\n"
     ]
    }
   ],
   "source": [
    "history_l = model_l.fit(X_train_reshape, y_train_cat, validation_data=(X_test_reshape,y_test_cat), epochs=75)"
   ]
  },
  {
   "cell_type": "code",
   "execution_count": 31,
   "metadata": {},
   "outputs": [
    {
     "name": "stdout",
     "output_type": "stream",
     "text": [
      "INFO:tensorflow:Assets written to: ../data/model_l.hd\\assets\n"
     ]
    }
   ],
   "source": [
    "model_l.save('../data/model_l.hd')"
   ]
  },
  {
   "cell_type": "code",
   "execution_count": 36,
   "metadata": {},
   "outputs": [
    {
     "data": {
      "text/plain": [
       "<matplotlib.legend.Legend at 0x1a462f27430>"
      ]
     },
     "execution_count": 36,
     "metadata": {},
     "output_type": "execute_result"
    },
    {
     "data": {
      "image/png": "[encoded data removed]",
      "text/plain": [
       "<Figure size 720x576 with 1 Axes>"
      ]
     },
     "metadata": {},
     "output_type": "display_data"
    }
   ],
   "source": [
    "plt.figure(figsize=(10,8))\n",
    "plt.plot(history_l.history['accuracy'], label='Train')\n",
    "plt.plot(history_l.history['val_accuracy'], label='Test')\n",
    "plt.title('Binary Classifier with BERT Only')\n",
    "plt.legend()"
   ]
  },
  {
   "cell_type": "markdown",
   "metadata": {},
   "source": [
    "### Model Evaluation"
   ]
  },
  {
   "cell_type": "code",
   "execution_count": 8,
   "metadata": {},
   "outputs": [],
   "source": [
    "model_lr = load_model('../data/model_l.hd/')"
   ]
  },
  {
   "cell_type": "code",
   "execution_count": 9,
   "metadata": {},
   "outputs": [],
   "source": [
    "X_test = load('../data/X_test_bvect.npy').reshape(-1,768,1)\n",
    "y_test = load('../data/y_test_cat.npy')"
   ]
  },
  {
   "cell_type": "code",
   "execution_count": 10,
   "metadata": {},
   "outputs": [
    {
     "name": "stdout",
     "output_type": "stream",
     "text": [
      "WARNING:tensorflow:From <ipython-input-10-c77d8697b23b>:1: Sequential.predict_classes (from tensorflow.python.keras.engine.sequential) is deprecated and will be removed after 2021-01-01.\n",
      "Instructions for updating:\n",
      "Please use instead:* `np.argmax(model.predict(x), axis=-1)`,   if your model does multi-class classification   (e.g. if it uses a `softmax` last-layer activation).* `(model.predict(x) > 0.5).astype(\"int32\")`,   if your model does binary classification   (e.g. if it uses a `sigmoid` last-layer activation).\n"
     ]
    },
    {
     "data": {
      "text/plain": [
       "array([[0],\n",
       "       [0],\n",
       "       [0],\n",
       "       ...,\n",
       "       [1],\n",
       "       [1],\n",
       "       [1]])"
      ]
     },
     "execution_count": 10,
     "metadata": {},
     "output_type": "execute_result"
    }
   ],
   "source": [
    "preds = model_lr.predict_classes(X_test)\n",
    "preds"
   ]
  },
  {
   "cell_type": "code",
   "execution_count": 16,
   "metadata": {},
   "outputs": [
    {
     "data": {
      "text/plain": [
       "array([0, 0, 0, ..., 1, 1, 0], dtype=int64)"
      ]
     },
     "execution_count": 16,
     "metadata": {},
     "output_type": "execute_result"
    }
   ],
   "source": [
    "y_test"
   ]
  },
  {
   "cell_type": "code",
   "execution_count": 17,
   "metadata": {},
   "outputs": [],
   "source": [
    "preds = preds.reshape(1,-1).ravel()"
   ]
  },
  {
   "cell_type": "code",
   "execution_count": 18,
   "metadata": {},
   "outputs": [],
   "source": [
    "from sklearn.metrics import plot_confusion_matrix\n",
    "from sklearn.metrics import confusion_matrix"
   ]
  },
  {
   "cell_type": "code",
   "execution_count": 19,
   "metadata": {},
   "outputs": [
    {
     "data": {
      "text/plain": [
       "array([[5083,  925],\n",
       "       [ 819, 5173]], dtype=int64)"
      ]
     },
     "execution_count": 19,
     "metadata": {},
     "output_type": "execute_result"
    }
   ],
   "source": [
    "cm = confusion_matrix(y_test,preds.ravel())\n",
    "cm"
   ]
  },
  {
   "cell_type": "code",
   "execution_count": 25,
   "metadata": {},
   "outputs": [
    {
     "data": {
      "text/plain": [
       "Text(69.0, 0.5, 'True')"
      ]
     },
     "execution_count": 25,
     "metadata": {},
     "output_type": "execute_result"
    },
    {
     "data": {
      "image/png": "[encoded data removed]",
      "text/plain": [
       "<Figure size 720x576 with 2 Axes>"
      ]
     },
     "metadata": {},
     "output_type": "display_data"
    }
   ],
   "source": [
    "plt.figure(figsize=(10,8))\n",
    "g = sns.heatmap(cm, annot=True, cmap='viridis_r'); #annot=True to annotate cells\n",
    "g.xaxis.set_ticklabels(['Depression', 'Not Depression'],size=12)\n",
    "g.yaxis.set_ticklabels(['Depression', 'Not Depression'],size=12)\n",
    "\n",
    "g.set_xlabel(\"Predicted\",size=17)\n",
    "g.set_ylabel(\"True\",size=17)\n",
    "# X-axis is predicted labels\n",
    "# y-axis is true labels"
   ]
  },
  {
   "cell_type": "code",
   "execution_count": 21,
   "metadata": {},
   "outputs": [],
   "source": [
    "tn, fp, fn, tp = cm.ravel()"
   ]
  },
  {
   "cell_type": "code",
   "execution_count": 22,
   "metadata": {},
   "outputs": [],
   "source": [
    "recall = tp / (tp + fn)\n",
    "specificity = tn / (tn + fp)\n",
    "precision = tp / (tp + fp)\n",
    "accuracy = (tp + tn) / (tp + tn + fp + fn)\n",
    "f1_score = 2 * (precision * recall) / (precision + recall)"
   ]
  },
  {
   "cell_type": "code",
   "execution_count": 23,
   "metadata": {},
   "outputs": [],
   "source": [
    "clf_dict = {'recall':recall,'specificity':specificity,'precision':precision,'accuracy':accuracy,'F1':f1_score}"
   ]
  },
  {
   "cell_type": "code",
   "execution_count": 24,
   "metadata": {},
   "outputs": [
    {
     "data": {
      "text/html": [
       "<div>\n",
       "<style scoped>\n",
       "    .dataframe tbody tr th:only-of-type {\n",
       "        vertical-align: middle;\n",
       "    }\n",
       "\n",
       "    .dataframe tbody tr th {\n",
       "        vertical-align: top;\n",
       "    }\n",
       "\n",
       "    .dataframe thead th {\n",
       "        text-align: right;\n",
       "    }\n",
       "</style>\n",
       "<table border=\"1\" class=\"dataframe\">\n",
       "  <thead>\n",
       "    <tr style=\"text-align: right;\">\n",
       "      <th></th>\n",
       "      <th>Scores</th>\n",
       "    </tr>\n",
       "  </thead>\n",
       "  <tbody>\n",
       "    <tr>\n",
       "      <th>recall</th>\n",
       "      <td>0.863318</td>\n",
       "    </tr>\n",
       "    <tr>\n",
       "      <th>specificity</th>\n",
       "      <td>0.846039</td>\n",
       "    </tr>\n",
       "    <tr>\n",
       "      <th>precision</th>\n",
       "      <td>0.848311</td>\n",
       "    </tr>\n",
       "    <tr>\n",
       "      <th>accuracy</th>\n",
       "      <td>0.854667</td>\n",
       "    </tr>\n",
       "    <tr>\n",
       "      <th>F1</th>\n",
       "      <td>0.855749</td>\n",
       "    </tr>\n",
       "  </tbody>\n",
       "</table>\n",
       "</div>"
      ],
      "text/plain": [
       "               Scores\n",
       "recall       0.863318\n",
       "specificity  0.846039\n",
       "precision    0.848311\n",
       "accuracy     0.854667\n",
       "F1           0.855749"
      ]
     },
     "execution_count": 24,
     "metadata": {},
     "output_type": "execute_result"
    }
   ],
   "source": [
    "clf_df = pd.DataFrame(clf_dict,index=['Scores']).T\n",
    "clf_df"
   ]
  },
  {
   "cell_type": "code",
   "execution_count": null,
   "metadata": {},
   "outputs": [],
   "source": []
  }
 ],
 "metadata": {
  "kernelspec": {
   "display_name": "Python 3",
   "language": "python",
   "name": "python3"
  },
  "language_info": {
   "codemirror_mode": {
    "name": "ipython",
    "version": 3
   },
   "file_extension": ".py",
   "mimetype": "text/x-python",
   "name": "python",
   "nbconvert_exporter": "python",
   "pygments_lexer": "ipython3",
   "version": "3.8.5"
  }
 },
 "nbformat": 4,
 "nbformat_minor": 4
}
